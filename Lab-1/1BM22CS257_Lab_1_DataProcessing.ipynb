{
  "cells": [
    {
      "cell_type": "code",
      "execution_count": null,
      "metadata": {
        "id": "bVk8r2sx-J2b"
      },
      "outputs": [],
      "source": [
        "import pandas as pd\n",
        "import numpy as np\n",
        "import matplotlib.pyplot as plt\n",
        "import seaborn as sns"
      ]
    },
    {
      "cell_type": "code",
      "execution_count": null,
      "metadata": {
        "colab": {
          "base_uri": "https://localhost:8080/"
        },
        "id": "mSSLBzOFHp99",
        "outputId": "e94f69c2-4d06-4382-dc69-7eb8dd0b9cdc"
      },
      "outputs": [
        {
          "name": "stdout",
          "output_type": "stream",
          "text": [
            "    ID  No_Pation Gender  AGE  Urea  Cr  HbA1c  Chol   TG  HDL  LDL  VLDL  \\\n",
            "0  502      17975      F   50   4.7  46    4.9   4.2  0.9  2.4  1.4   0.5   \n",
            "1  735      34221      M   26   4.5  62    4.9   3.7  1.4  1.1  2.1   0.6   \n",
            "2  420      47975      F   50   4.7  46    4.9   4.2  0.9  2.4  1.4   0.5   \n",
            "3  680      87656      F   50   4.7  46    4.9   4.2  0.9  2.4  1.4   0.5   \n",
            "4  504      34223      M   33   7.1  46    4.9   4.9  1.0  0.8  2.0   0.4   \n",
            "\n",
            "    BMI CLASS  \n",
            "0  24.0     N  \n",
            "1  23.0     N  \n",
            "2  24.0     N  \n",
            "3  24.0     N  \n",
            "4  21.0     N  \n"
          ]
        }
      ],
      "source": [
        "df= pd.read_csv('/content/Dataset of Diabetes .csv')\n",
        "print(df.head())"
      ]
    },
    {
      "cell_type": "code",
      "execution_count": null,
      "metadata": {
        "colab": {
          "base_uri": "https://localhost:8080/"
        },
        "id": "qdwzjyh1H0ak",
        "outputId": "309acb75-5970-4b3b-b28b-4d9ab4532701"
      },
      "outputs": [
        {
          "name": "stdout",
          "output_type": "stream",
          "text": [
            "First few rows of the dataset:\n",
            "    ID  No_Pation Gender  AGE  Urea  Cr  HbA1c  Chol   TG  HDL  LDL  VLDL  \\\n",
            "0  502      17975      F   50   4.7  46    4.9   4.2  0.9  2.4  1.4   0.5   \n",
            "1  735      34221      M   26   4.5  62    4.9   3.7  1.4  1.1  2.1   0.6   \n",
            "2  420      47975      F   50   4.7  46    4.9   4.2  0.9  2.4  1.4   0.5   \n",
            "3  680      87656      F   50   4.7  46    4.9   4.2  0.9  2.4  1.4   0.5   \n",
            "4  504      34223      M   33   7.1  46    4.9   4.9  1.0  0.8  2.0   0.4   \n",
            "\n",
            "    BMI CLASS  \n",
            "0  24.0     N  \n",
            "1  23.0     N  \n",
            "2  24.0     N  \n",
            "3  24.0     N  \n",
            "4  21.0     N  \n",
            "\n",
            "Missing values in each column:\n",
            "ID           0\n",
            "No_Pation    0\n",
            "Gender       0\n",
            "AGE          0\n",
            "Urea         0\n",
            "Cr           0\n",
            "HbA1c        0\n",
            "Chol         0\n",
            "TG           0\n",
            "HDL          0\n",
            "LDL          0\n",
            "VLDL         0\n",
            "BMI          0\n",
            "CLASS        0\n",
            "dtype: int64\n",
            "\n",
            "Cleaned and Scaled Data:\n",
            "    Gender  CLASS        ID  No_Pation       AGE      Urea        Cr  \\\n",
            "5      0.0    0.0  0.706767   0.451762  0.354839  0.578947  0.619048   \n",
            "6      0.0    0.0  0.744361   0.451775  0.354839  0.631579  0.369048   \n",
            "7      1.0    0.0  0.911028   0.451788  0.322581  0.144737  0.071429   \n",
            "13     0.0    0.0  0.130326   0.451881  0.161290  0.421053  0.321429   \n",
            "14     0.0    0.0  0.170426   0.451894  0.290323  0.842105  0.714286   \n",
            "\n",
            "       HbA1c      Chol        TG       HDL       LDL      VLDL   BMI  \n",
            "5   0.230769  0.271186  0.170213  0.400000  0.306122  0.190476  0.10  \n",
            "6   0.261538  0.559322  0.106383  0.466667  0.714286  0.095238  0.10  \n",
            "7   0.161538  0.508475  0.212766  0.533333  0.551020  0.238095  0.25  \n",
            "13  0.153846  0.610169  0.234043  0.666667  0.612245  0.238095  0.15  \n",
            "14  0.261538  0.203390  0.319149  0.800000  0.061224  0.333333  0.20  \n"
          ]
        }
      ],
      "source": [
        "import pandas as pd\n",
        "import numpy as np\n",
        "from sklearn.preprocessing import MinMaxScaler, StandardScaler\n",
        "from sklearn.impute import SimpleImputer\n",
        "from sklearn.preprocessing import LabelEncoder\n",
        "\n",
        "\n",
        "df = pd.read_csv('/content/Dataset of Diabetes .csv')\n",
        "\n",
        "print(\"First few rows of the dataset:\")\n",
        "print(df.head())\n",
        "\n",
        "\n",
        "\n",
        "print(\"\\nMissing values in each column:\")\n",
        "print(df.isnull().sum())\n",
        "\n",
        "\n",
        "num_columns = df.select_dtypes(include=['float64', 'int64']).columns\n",
        "imputer = SimpleImputer(strategy='mean')\n",
        "df[num_columns] = imputer.fit_transform(df[num_columns])\n",
        "\n",
        "\n",
        "cat_columns = df.select_dtypes(include=['object']).columns\n",
        "imputer_cat = SimpleImputer(strategy='most_frequent')\n",
        "df[cat_columns] = imputer_cat.fit_transform(df[cat_columns])\n",
        "\n",
        "\n",
        "\n",
        "label_encoder = LabelEncoder()\n",
        "df['Gender'] = label_encoder.fit_transform(df['Gender'])\n",
        "\n",
        "\n",
        "df['CLASS'] = label_encoder.fit_transform(df['CLASS'])\n",
        "\n",
        "\n",
        "\n",
        "Q1 = df[num_columns].quantile(0.25)\n",
        "Q3 = df[num_columns].quantile(0.75)\n",
        "IQR = Q3 - Q1\n",
        "\n",
        "\n",
        "df_clean = df[~((df[num_columns] < (Q1 - 1.5 * IQR)) | (df[num_columns] > (Q3 + 1.5 * IQR))).any(axis=1)]\n",
        "\n",
        "\n",
        "\n",
        "scaler_choice = 'minmax'  \n",
        "\n",
        "if scaler_choice == 'minmax':\n",
        "    scaler = MinMaxScaler()\n",
        "else:\n",
        "    scaler = StandardScaler()\n",
        "\n",
        "\n",
        "df_scaled = pd.DataFrame(scaler.fit_transform(df_clean[num_columns]), columns=num_columns)\n",
        "\n",
        "\n",
        "df_final = pd.concat([df_clean[cat_columns], df_scaled], axis=1)\n",
        "\n",
        "\n",
        "print(\"\\nCleaned and Scaled Data:\")\n",
        "print(df_final.head())\n"
      ]
    }
  ],
  "metadata": {
    "colab": {
      "provenance": []
    },
    "kernelspec": {
      "display_name": "Python 3",
      "name": "python3"
    },
    "language_info": {
      "name": "python"
    }
  },
  "nbformat": 4,
  "nbformat_minor": 0
}
