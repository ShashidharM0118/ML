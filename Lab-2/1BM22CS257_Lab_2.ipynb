{
  "cells": [
    {
      "cell_type": "code",
      "execution_count": 1,
      "metadata": {
        "colab": {
          "base_uri": "https://localhost:8080/",
          "height": 673
        },
        "id": "Q5lK7xp0Cbae",
        "outputId": "d9e379cd-1455-48d7-b951-91ce3ab5c2ac"
      },
      "outputs": [
        {
          "ename": "ModuleNotFoundError",
          "evalue": "No module named 'pandas'",
          "output_type": "error",
          "traceback": [
            "\u001b[31m---------------------------------------------------------------------------\u001b[39m",
            "\u001b[31mModuleNotFoundError\u001b[39m                       Traceback (most recent call last)",
            "\u001b[36mCell\u001b[39m\u001b[36m \u001b[39m\u001b[32mIn[1]\u001b[39m\u001b[32m, line 1\u001b[39m\n\u001b[32m----> \u001b[39m\u001b[32m1\u001b[39m \u001b[38;5;28;01mimport\u001b[39;00m\u001b[38;5;250m \u001b[39m\u001b[34;01mpandas\u001b[39;00m\u001b[38;5;250m \u001b[39m\u001b[38;5;28;01mas\u001b[39;00m\u001b[38;5;250m \u001b[39m\u001b[34;01mpd\u001b[39;00m\n\u001b[32m      2\u001b[39m \u001b[38;5;28;01mfrom\u001b[39;00m\u001b[38;5;250m \u001b[39m\u001b[34;01msklearn\u001b[39;00m\u001b[34;01m.\u001b[39;00m\u001b[34;01mmodel_selection\u001b[39;00m\u001b[38;5;250m \u001b[39m\u001b[38;5;28;01mimport\u001b[39;00m train_test_split\n\u001b[32m      3\u001b[39m \u001b[38;5;28;01mfrom\u001b[39;00m\u001b[38;5;250m \u001b[39m\u001b[34;01msklearn\u001b[39;00m\u001b[34;01m.\u001b[39;00m\u001b[34;01mpreprocessing\u001b[39;00m\u001b[38;5;250m \u001b[39m\u001b[38;5;28;01mimport\u001b[39;00m LabelEncoder\n",
            "\u001b[31mModuleNotFoundError\u001b[39m: No module named 'pandas'"
          ]
        }
      ],
      "source": [
        " \n",
        "import pandas as pd\n",
        "from sklearn.model_selection import train_test_split\n",
        "from sklearn.preprocessing import LabelEncoder\n",
        "from sklearn.tree import DecisionTreeClassifier, plot_tree\n",
        "from sklearn import metrics\n",
        "import matplotlib.pyplot as plt\n",
        " \n",
        "df = pd.read_csv('/content/tennis.csv')\n",
        " \n",
        "print(\"First 5 rows of the dataset:\")\n",
        "print(df.head())\n",
        " \n",
        "le_outlook = LabelEncoder()\n",
        "le_temp = LabelEncoder()\n",
        "le_humidity = LabelEncoder()\n",
        "le_windy = LabelEncoder()\n",
        "le_play = LabelEncoder()\n",
        " \n",
        "df['outlook'] = le_outlook.fit_transform(df['outlook'])\n",
        "df['temp'] = le_temp.fit_transform(df['temp'])\n",
        "df['humidity'] = le_humidity.fit_transform(df['humidity'])\n",
        "df['windy'] = le_windy.fit_transform(df['windy'])\n",
        "df['play'] = le_play.fit_transform(df['play'])  # This is the target label\n",
        " \n",
        "X = df[['outlook', 'temp', 'humidity', 'windy']]   \n",
        "y = df['play']  # Target\n",
        "\n",
        " \n",
        "X_train, X_test, y_train, y_test = train_test_split(X, y, test_size=0.2, random_state=42)\n",
        "\n",
        " \n",
        "clf = DecisionTreeClassifier(criterion='entropy', random_state=42)\n",
        "\n",
        " \n",
        "clf.fit(X_train, y_train)\n",
        " \n",
        "y_pred = clf.predict(X_test)\n",
        " \n",
        "accuracy = metrics.accuracy_score(y_test, y_pred)\n",
        "print(f\"Accuracy: {accuracy * 100:.2f}%\")\n",
        " \n",
        "new_sample = [[le_outlook.transform(['sunny'])[0],\n",
        "               le_temp.transform(['cool'])[0],\n",
        "               le_humidity.transform(['high'])[0],\n",
        "               le_windy.transform(['false'])[0]]]\n",
        "\n",
        "predicted_class = clf.predict(new_sample)\n",
        "\n",
        " \n",
        "print(f\"Predicted class for the new sample: {'yes' if le_play.inverse_transform([predicted_class[0]])[0] == 'yes' else 'no'}\")\n",
        "\n",
        " \n",
        "plt.figure(figsize=(20, 10), dpi=300)   \n",
        "plot_tree(clf,\n",
        "          feature_names=['Outlook', 'Temp', 'Humidity', 'Windy'],\n",
        "          class_names=le_play.classes_,\n",
        "          filled=True,\n",
        "          rounded=True,\n",
        "          fontsize=10)  \n",
        "\n",
        "plt.title(\"Decision Tree for Weather Data\", fontsize=16)   \n",
        "plt.show()\n"
      ]
    },
    {
      "cell_type": "code",
      "execution_count": null,
      "metadata": {
        "colab": {
          "base_uri": "https://localhost:8080/"
        },
        "id": "Q4TQL3Z6GCn0",
        "outputId": "f9178497-7ecd-4f2c-8821-4e4a12e08785"
      },
      "outputs": [
        {
          "name": "stdout",
          "output_type": "stream",
          "text": [
            "outlook\n",
            " └─ sunny\n",
            "    humidity\n",
            "     └─ high\n",
            "        → no\n",
            "     └─ normal\n",
            "        → yes\n",
            " └─ overcast\n",
            "    → yes\n",
            " └─ rainy\n",
            "    windy\n",
            "     └─ False\n",
            "        → yes\n",
            "     └─ True\n",
            "        → no\n"
          ]
        }
      ],
      "source": [
        "import pandas as pd\n",
        "import numpy as np\n",
        "from collections import Counter\n",
        "import math\n",
        "\n",
        "# Function to calculate entropy\n",
        "def entropy(y):\n",
        "    counts = Counter(y)\n",
        "    probabilities = [count / len(y) for count in counts.values()]\n",
        "    return -sum(p * math.log2(p) for p in probabilities)\n",
        "\n",
        "# Function to calculate information gain\n",
        "def information_gain(data, feature, target):\n",
        "    total_entropy = entropy(data[target])\n",
        "    values = data[feature].unique()\n",
        "    weighted_entropy = sum((len(data[data[feature] == v]) / len(data)) * entropy(data[data[feature] == v][target]) for v in values)\n",
        "    return total_entropy - weighted_entropy\n",
        "\n",
        "# Recursive ID3 algorithm to build the decision tree\n",
        "def id3(data, features, target):\n",
        "    # If all target values are the same, return the label\n",
        "    if len(set(data[target])) == 1:\n",
        "        return data[target].iloc[0]\n",
        "\n",
        "    # If no features left, return the most common label\n",
        "    if len(features) == 0:\n",
        "        return data[target].mode()[0]\n",
        "\n",
        "    # Choose the best feature based on information gain\n",
        "    gains = {feature: information_gain(data, feature, target) for feature in features}\n",
        "    best_feature = max(gains, key=gains.get)\n",
        "\n",
        "    # Create tree node\n",
        "    tree = {best_feature: {}}\n",
        "\n",
        "    # Split dataset and recurse for each value of the best feature\n",
        "    for value in data[best_feature].unique():\n",
        "        subset = data[data[best_feature] == value]\n",
        "        remaining_features = [f for f in features if f != best_feature]\n",
        "        tree[best_feature][value] = id3(subset, remaining_features, target)\n",
        "\n",
        "    return tree\n",
        "\n",
        "# Function to print decision tree in a readable format\n",
        "def print_tree(tree, indent=\"\"):\n",
        "    if not isinstance(tree, dict):\n",
        "        print(indent + \"→ \" + str(tree))\n",
        "        return\n",
        "\n",
        "    for key, value in tree.items():\n",
        "        print(indent + str(key))\n",
        "        for sub_key, sub_tree in value.items():\n",
        "            print(indent + \" └─ \" + str(sub_key))\n",
        "            print_tree(sub_tree, indent + \"    \")\n",
        "\n",
        "# Load dataset\n",
        "file_path = '/content/tennis.csv'\n",
        "data = pd.read_csv(file_path)\n",
        "\n",
        "# Apply ID3 algorithm\n",
        "features = list(data.columns[:-1])  # All columns except the target\n",
        "target = 'play'\n",
        "decision_tree = id3(data, features, target)\n",
        "\n",
        "# Print the decision tree\n",
        "print_tree(decision_tree)\n"
      ]
    }
  ],
  "metadata": {
    "colab": {
      "provenance": []
    },
    "kernelspec": {
      "display_name": "Python 3",
      "name": "python3"
    },
    "language_info": {
      "codemirror_mode": {
        "name": "ipython",
        "version": 3
      },
      "file_extension": ".py",
      "mimetype": "text/x-python",
      "name": "python",
      "nbconvert_exporter": "python",
      "pygments_lexer": "ipython3",
      "version": "3.13.1"
    }
  },
  "nbformat": 4,
  "nbformat_minor": 0
}
